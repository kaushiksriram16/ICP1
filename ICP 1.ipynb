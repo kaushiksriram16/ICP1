{
 "cells": [
  {
   "cell_type": "code",
   "execution_count": 13,
   "id": "692b17d5",
   "metadata": {},
   "outputs": [
    {
     "name": "stdout",
     "output_type": "stream",
     "text": [
      "Enter a String: Python\n",
      "Enter any 2 characters to delete: h o\n",
      "ntyP\n"
     ]
    }
   ],
   "source": [
    "# Input the string “Python” as a list of characters from console, delete at least 2 characters, reverse the resultant string and print it.\n",
    "\n",
    "cl = list(input(\"Enter a String: \"))\n",
    "\n",
    "dlt_char = input(\"Enter any 2 characters to delete: \").split()\n",
    "\n",
    "for c in dlt_char:\n",
    "    if c in cl:\n",
    "        cl.remove(c)\n",
    "\n",
    "cl.reverse()\n",
    "\n",
    "res = ''.join(cl)\n",
    "        \n",
    "print(res)\n"
   ]
  },
  {
   "cell_type": "code",
   "execution_count": 14,
   "id": "0c96bc18",
   "metadata": {},
   "outputs": [
    {
     "name": "stdout",
     "output_type": "stream",
     "text": [
      "Enter the sentence: I code in python\n",
      "I code in pythons\n"
     ]
    }
   ],
   "source": [
    "# Write a program that accepts a sentence and replace each occurrence of ‘python’ with ‘pythons’.\n",
    "\n",
    "sentence = input(\"Enter the sentence: \")\n",
    "\n",
    "new_sentence = sentence.replace(\"python\", \"pythons\")\n",
    "\n",
    "print(new_sentence)"
   ]
  },
  {
   "cell_type": "code",
   "execution_count": 15,
   "id": "aeea2049",
   "metadata": {},
   "outputs": [
    {
     "name": "stdout",
     "output_type": "stream",
     "text": [
      "Enter the score: 78\n",
      "C\n"
     ]
    }
   ],
   "source": [
    "# Use the if statement conditions to write a program to print the letter grade based on an input classscore. Use the grading scheme we are using in this class.\n",
    "\n",
    "score = int(input(\"Enter the score: \"))\n",
    "\n",
    "if score >= 90 and score <= 100:\n",
    "    grade = 'A'\n",
    "elif score >= 80 and score < 90:\n",
    "    grade = 'B'\n",
    "elif score >= 70 and score < 80:\n",
    "    grade = 'C'\n",
    "elif score >= 60 and score < 70:\n",
    "    grade = 'D'\n",
    "elif score < 60:\n",
    "    grade = 'F'\n",
    "else:\n",
    "    print(\"Enter correct score\")\n",
    "print(grade)"
   ]
  }
 ],
 "metadata": {
  "kernelspec": {
   "display_name": "Python 3 (ipykernel)",
   "language": "python",
   "name": "python3"
  },
  "language_info": {
   "codemirror_mode": {
    "name": "ipython",
    "version": 3
   },
   "file_extension": ".py",
   "mimetype": "text/x-python",
   "name": "python",
   "nbconvert_exporter": "python",
   "pygments_lexer": "ipython3",
   "version": "3.11.4"
  }
 },
 "nbformat": 4,
 "nbformat_minor": 5
}
